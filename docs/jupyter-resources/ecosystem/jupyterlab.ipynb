{
 "cells": [
  {
   "cell_type": "markdown",
   "id": "announced-country",
   "metadata": {},
   "source": [
    "# JupyterLab\n",
    "\n",
    "_JupyterLab is a web-based interactive development environment for Jupyter notebooks, code, and data._ \n",
    "\n",
    "\n",
    "\n",
    "**Additional resources**\n",
    "- [JupyterLab documentation](https://jupyterlab.readthedocs.io/en/stable/)\n"
   ]
  },
  {
   "cell_type": "code",
   "execution_count": null,
   "id": "characteristic-gross",
   "metadata": {},
   "outputs": [],
   "source": []
  }
 ],
 "metadata": {
  "kernelspec": {
   "display_name": "Python 3",
   "language": "python",
   "name": "python3"
  },
  "language_info": {
   "codemirror_mode": {
    "name": "ipython",
    "version": 3
   },
   "file_extension": ".py",
   "mimetype": "text/x-python",
   "name": "python",
   "nbconvert_exporter": "python",
   "pygments_lexer": "ipython3",
   "version": "3.8.5"
  }
 },
 "nbformat": 4,
 "nbformat_minor": 5
}
