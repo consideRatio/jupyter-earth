{
 "cells": [
  {
   "cell_type": "markdown",
   "id": "turkish-essay",
   "metadata": {},
   "source": [
    "# Binder\n",
    "\n",
    "<img src=\"https://mybinder.org/static/logo.svg\" width=30%>\n",
    "\n",
    "**Additional Resources**\n",
    "- [mybinder.org](https://mybinder.org)\n",
    "- [mybinder.org documentation](https://mybinder.readthedocs.io)\n",
    "- [Binder documentation](https://mybinder.readthedocs.io)"
   ]
  },
  {
   "cell_type": "code",
   "execution_count": null,
   "id": "julian-imperial",
   "metadata": {},
   "outputs": [],
   "source": []
  }
 ],
 "metadata": {
  "kernelspec": {
   "display_name": "Python 3",
   "language": "python",
   "name": "python3"
  },
  "language_info": {
   "codemirror_mode": {
    "name": "ipython",
    "version": 3
   },
   "file_extension": ".py",
   "mimetype": "text/x-python",
   "name": "python",
   "nbconvert_exporter": "python",
   "pygments_lexer": "ipython3",
   "version": "3.8.5"
  }
 },
 "nbformat": 4,
 "nbformat_minor": 5
}
