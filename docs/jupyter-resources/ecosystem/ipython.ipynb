{
 "cells": [
  {
   "cell_type": "markdown",
   "id": "received-nicholas",
   "metadata": {},
   "source": [
    "# IPython \n",
    "_beyond plain python_"
   ]
  },
  {
   "cell_type": "code",
   "execution_count": null,
   "id": "dominant-rogers",
   "metadata": {},
   "outputs": [],
   "source": []
  }
 ],
 "metadata": {
  "kernelspec": {
   "display_name": "Python 3",
   "language": "python",
   "name": "python3"
  },
  "language_info": {
   "codemirror_mode": {
    "name": "ipython",
    "version": 3
   },
   "file_extension": ".py",
   "mimetype": "text/x-python",
   "name": "python",
   "nbconvert_exporter": "python",
   "pygments_lexer": "ipython3",
   "version": "3.8.5"
  }
 },
 "nbformat": 4,
 "nbformat_minor": 5
}
