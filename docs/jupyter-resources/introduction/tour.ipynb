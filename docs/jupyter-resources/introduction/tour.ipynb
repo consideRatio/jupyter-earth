{
 "cells": [
  {
   "cell_type": "markdown",
   "id": "adequate-museum",
   "metadata": {},
   "source": [
    "# A tour of Jupyter"
   ]
  },
  {
   "cell_type": "markdown",
   "id": "capable-karaoke",
   "metadata": {},
   "source": [
    "## Intro to the notebook - a web application for interactive computing.\n",
    " - Live documents + code.\n",
    "- Rich outputs \n",
    "- Rich markdown\n",
    "- Local or remote usage - back to it later.\n",
    "- IPython - Python++"
   ]
  },
  {
   "cell_type": "markdown",
   "id": "blessed-jesus",
   "metadata": {},
   "source": [
    "## Quick overviews of a few other parts of the project\n",
    "- JupyterLab \n",
    "- JupyterHub\n",
    "- JupyterBook\n",
    "- Binder - intro"
   ]
  },
  {
   "cell_type": "markdown",
   "id": "wooden-beaver",
   "metadata": {},
   "source": [
    "## A bit of architecture \n",
    "- kernels, interfaces, documents, services\n",
    "- Protocols for others to build on\n",
    "   - Community kernels\n",
    "   - Third-party clients."
   ]
  },
  {
   "cell_type": "markdown",
   "id": "valid-barrel",
   "metadata": {},
   "source": [
    "# Communities\n",
    "- Multistakeholder structure, contribution & governance.\n",
    "- Discourse, JupyterCon, Twitter.\n",
    "- Pangeo\n",
    "- 2i2c\n",
    "- NumFOCUS\n",
    "\n",
    "![Jupyter pyramid](../images/Jupyter-Pyramid.png)"
   ]
  }
 ],
 "metadata": {
  "kernelspec": {
   "display_name": "Python 3",
   "language": "python",
   "name": "python3"
  },
  "language_info": {
   "codemirror_mode": {
    "name": "ipython",
    "version": 3
   },
   "file_extension": ".py",
   "mimetype": "text/x-python",
   "name": "python",
   "nbconvert_exporter": "python",
   "pygments_lexer": "ipython3",
   "version": "3.8.5"
  }
 },
 "nbformat": 4,
 "nbformat_minor": 5
}
